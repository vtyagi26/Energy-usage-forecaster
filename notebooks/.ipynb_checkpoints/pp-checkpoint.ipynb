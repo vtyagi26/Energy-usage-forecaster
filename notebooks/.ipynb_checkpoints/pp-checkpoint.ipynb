{
 "cells": [
  {
   "cell_type": "code",
   "execution_count": null,
   "id": "09b31b49",
   "metadata": {
    "vscode": {
     "languageId": "plaintext"
    }
   },
   "outputs": [],
   "source": [
    "import pandas as pd\n",
    "import numpy as np\n",
    "\n",
    "def generate_energy_dataset(start=\"2021-01-01\", end=\"2021-12-31\", freq=\"H\", filename=\"energy.csv\"):\n",
    "    \"\"\"\n",
    "    Generate a synthetic energy usage dataset with temperature, humidity, appliances, and usage.\n",
    "    \n",
    "    Parameters:\n",
    "        start (str): start date (YYYY-MM-DD)\n",
    "        end (str): end date (YYYY-MM-DD)\n",
    "        freq (str): frequency of data ('H' for hourly, 'D' for daily)\n",
    "        filename (str): output CSV file name\n",
    "    \"\"\"\n",
    "    np.random.seed(42)\n",
    "    date_range = pd.date_range(start=start, end=end, freq=freq)\n",
    "    n = len(date_range)\n",
    "\n",
    "    # Generate synthetic features\n",
    "    temperature = np.random.normal(20, 5, n)      # around 20°C\n",
    "    humidity = np.random.normal(50, 10, n)        # around 50%\n",
    "    appliances = np.random.randint(1, 10, n)      # 1–9 appliances running\n",
    "\n",
    "    # Energy usage depends on appliances, temperature, and noise\n",
    "    usage = (appliances * 2.5 +\n",
    "             (25 - temperature) * 1.2 +\n",
    "             np.random.normal(0, 2, n))\n",
    "\n",
    "    # Create DataFrame\n",
    "    df = pd.DataFrame({\n",
    "        \"date\": date_range,\n",
    "        \"temperature\": temperature,\n",
    "        \"humidity\": humidity,\n",
    "        \"appliances\": appliances,\n",
    "        \"usage\": usage\n",
    "    })\n",
    "\n",
    "    # Save CSV\n",
    "    df.to_csv(filename, index=False)\n",
    "    print(f\"Dataset generated: {filename} ({len(df)} rows)\")\n",
    "    return df\n",
    "\n",
    "# Example: generate 1 year of hourly data\n",
    "df = generate_energy_dataset(start=\"2021-01-01\", end=\"2021-12-31\", freq=\"H\", filename=\"energy.csv\")\n",
    "\n",
    "print(df.head())\n"
   ]
  }
 ],
 "metadata": {
  "language_info": {
   "name": "python"
  }
 },
 "nbformat": 4,
 "nbformat_minor": 5
}
